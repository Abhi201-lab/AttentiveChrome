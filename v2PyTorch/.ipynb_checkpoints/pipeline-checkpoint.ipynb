{
 "cells": [
  {
   "cell_type": "code",
   "execution_count": 1,
   "metadata": {},
   "outputs": [
    {
     "name": "stdout",
     "output_type": "stream",
     "text": [
      "\u001b[33mWARNING: You are using pip version 20.2.3; however, version 22.0.3 is available.\n",
      "You should consider upgrading via the '/usr/local/bin/python -m pip install --upgrade pip' command.\u001b[0m\n"
     ]
    }
   ],
   "source": [
    "import sys\n",
    "!{sys.executable} -m pip install kfp==1.4.0 kfp-server-api==1.2.0 --user>/dev/null"
   ]
  },
  {
   "cell_type": "code",
   "execution_count": 2,
   "metadata": {},
   "outputs": [],
   "source": [
    "import os,sys\n",
    "import kfp\n",
    "import random\n",
    "import string"
   ]
  },
  {
   "cell_type": "code",
   "execution_count": 3,
   "metadata": {},
   "outputs": [],
   "source": [
    "components_url = \"/mnt/dkube/pipeline/components/\"\n",
    "dkube_training_op = kfp.components.load_component_from_file(components_url + \"training/component.yaml\")\n",
    "dkube_serving_op = kfp.components.load_component_from_file(components_url + \"serving/component.yaml\")\n",
    "token = os.getenv(\"DKUBE_USER_ACCESS_TOKEN\")\n",
    "client = kfp.Client(host=os.getenv(\"KF_PIPELINES_ENDPOINT\"), existing_token=token, namespace=os.getenv(\"USERNAME\"))"
   ]
  },
  {
   "cell_type": "code",
   "execution_count": 16,
   "metadata": {},
   "outputs": [],
   "source": [
    "@kfp.dsl.pipeline(\n",
    "    name='dkube-attentive-pl',\n",
    "    description='attentive pipeline with dkube components'\n",
    ")\n",
    "def attentive_pipeline():\n",
    "    train       = dkube_training_op(token,container = '{\"image\":\"ocdr/d3-datascience-pytorch-cpu:v1.6\"}',\n",
    "                                    framework=\"pytorch\", version=\"1.6\",\n",
    "                                    program=\"AttentiveChrome\", run_script=\"python v2PyTorch/train.py\",\n",
    "                                    datasets='[\"AttentiveData\"]', outputs='[\"AttentiveModel\"]',\n",
    "                                    input_dataset_mounts='[\"/v2PyTorch\"]',\n",
    "                                    output_mounts='[\"/model\"]',\n",
    "                                    envs='[{\"EPOCHS\": \"30\"}]')\n",
    "\n",
    "    serving     = dkube_serving_op(token,model = train.outputs['artifact'], device='cpu', \n",
    "                                    serving_image='{\"image\":\"ocdr/pytorchserver:1.6\"}',\n",
    "                                    transformer_image='{\"image\":\"ocdr/d3-datascience-pytorch-cpu:v1.6-1\"}',\n",
    "                                    transformer_project=\"AttentiveChrome\",\n",
    "                                    transformer_code='v2PyTorch/transformer.py').after(train)"
   ]
  },
  {
   "cell_type": "code",
   "execution_count": 17,
   "metadata": {},
   "outputs": [
    {
     "data": {
      "text/html": [
       "<a href=\"/pipeline/#/experiments/details/c294fe76-de93-48ac-a1d0-8153e6245956\" target=\"_blank\" >Experiment details</a>."
      ],
      "text/plain": [
       "<IPython.core.display.HTML object>"
      ]
     },
     "metadata": {},
     "output_type": "display_data"
    },
    {
     "data": {
      "text/html": [
       "<a href=\"/pipeline/#/runs/details/21942cbc-97a3-4a97-a766-83086e58866a\" target=\"_blank\" >Run details</a>."
      ],
      "text/plain": [
       "<IPython.core.display.HTML object>"
      ]
     },
     "metadata": {},
     "output_type": "display_data"
    },
    {
     "data": {
      "text/plain": [
       "RunPipelineResult(run_id=21942cbc-97a3-4a97-a766-83086e58866a)"
      ]
     },
     "execution_count": 17,
     "metadata": {},
     "output_type": "execute_result"
    }
   ],
   "source": [
    "client.create_run_from_pipeline_func(attentive_pipeline, arguments={})"
   ]
  },
  {
   "cell_type": "code",
   "execution_count": null,
   "metadata": {},
   "outputs": [],
   "source": [
    "# compile\n",
    "#import tempfile\n",
    "#f = tempfile.NamedTemporaryFile(suffix=\".zip\", delete=False)\n",
    "#kfp.compiler.Compiler().compile(mnist_pipeline,f.name)"
   ]
  },
  {
   "cell_type": "code",
   "execution_count": null,
   "metadata": {},
   "outputs": [],
   "source": [
    "#pipeline_id = client.get_pipeline_id(\"mnist-pipeline\")\n",
    "\n",
    "#if(pipeline_id != None):\n",
    "    #pipeline_version = ''.join(random.choices(string.ascii_uppercase + string.digits, k = 7))\n",
    "    #new_pipeline = client.upload_pipeline_version(f.name,pipeline_version_name = pipeline_version, pipeline_id = pipeline_id)\n",
    "#else:\n",
    "   # pipeline = client.upload_pipeline(f.name, pipeline_name=\"mnist-pipeline\")\n"
   ]
  }
 ],
 "metadata": {
  "kernelspec": {
   "display_name": "Python 3 (ipykernel)",
   "language": "python",
   "name": "python3"
  },
  "language_info": {
   "codemirror_mode": {
    "name": "ipython",
    "version": 3
   },
   "file_extension": ".py",
   "mimetype": "text/x-python",
   "name": "python",
   "nbconvert_exporter": "python",
   "pygments_lexer": "ipython3",
   "version": "3.8.5"
  }
 },
 "nbformat": 4,
 "nbformat_minor": 4
}
