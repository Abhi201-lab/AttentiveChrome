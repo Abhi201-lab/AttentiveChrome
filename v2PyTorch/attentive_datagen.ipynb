{
 "cells": [
  {
   "cell_type": "code",
   "execution_count": 1,
   "id": "41aa6c44",
   "metadata": {},
   "outputs": [],
   "source": [
    "! pip install dalex pymysql --user >> /dev/null"
   ]
  },
  {
   "cell_type": "code",
   "execution_count": 2,
   "id": "a0bf97c2",
   "metadata": {},
   "outputs": [],
   "source": [
    "import pandas as pd\n",
    "import time\n",
    "import random\n",
    "import os, requests, json\n",
    "import datetime\n",
    "import joblib\n",
    "from sqlalchemy import create_engine"
   ]
  },
  {
   "cell_type": "code",
   "execution_count": 3,
   "id": "59792b9d",
   "metadata": {},
   "outputs": [],
   "source": [
    "test_df = pd.read_csv(\"test.csv\",names=['GeneID', 'Bin ID', 'H3K27me3 count', 'H3K36me3 count', 'H3K4me1 count', 'H3K4me3 count', 'H3K9me3 counts', 'Binary Label'])\n",
    "input_features = ['GeneID', 'Bin ID', 'H3K27me3 count', 'H3K36me3 count', 'H3K4me1 count', 'H3K4me3 count', 'H3K9me3 counts']"
   ]
  },
  {
   "cell_type": "code",
   "execution_count": 4,
   "id": "e29f6e79",
   "metadata": {},
   "outputs": [
    {
     "data": {
      "text/html": [
       "<div>\n",
       "<style scoped>\n",
       "    .dataframe tbody tr th:only-of-type {\n",
       "        vertical-align: middle;\n",
       "    }\n",
       "\n",
       "    .dataframe tbody tr th {\n",
       "        vertical-align: top;\n",
       "    }\n",
       "\n",
       "    .dataframe thead th {\n",
       "        text-align: right;\n",
       "    }\n",
       "</style>\n",
       "<table border=\"1\" class=\"dataframe\">\n",
       "  <thead>\n",
       "    <tr style=\"text-align: right;\">\n",
       "      <th></th>\n",
       "      <th>GeneID</th>\n",
       "      <th>Bin ID</th>\n",
       "      <th>H3K27me3 count</th>\n",
       "      <th>H3K36me3 count</th>\n",
       "      <th>H3K4me1 count</th>\n",
       "      <th>H3K4me3 count</th>\n",
       "      <th>H3K9me3 counts</th>\n",
       "      <th>Binary Label</th>\n",
       "    </tr>\n",
       "  </thead>\n",
       "  <tbody>\n",
       "    <tr>\n",
       "      <th>0</th>\n",
       "      <td>172936</td>\n",
       "      <td>1</td>\n",
       "      <td>0</td>\n",
       "      <td>6</td>\n",
       "      <td>1</td>\n",
       "      <td>2</td>\n",
       "      <td>0</td>\n",
       "      <td>0</td>\n",
       "    </tr>\n",
       "    <tr>\n",
       "      <th>1</th>\n",
       "      <td>172936</td>\n",
       "      <td>2</td>\n",
       "      <td>0</td>\n",
       "      <td>10</td>\n",
       "      <td>1</td>\n",
       "      <td>0</td>\n",
       "      <td>2</td>\n",
       "      <td>0</td>\n",
       "    </tr>\n",
       "    <tr>\n",
       "      <th>2</th>\n",
       "      <td>172936</td>\n",
       "      <td>3</td>\n",
       "      <td>0</td>\n",
       "      <td>12</td>\n",
       "      <td>1</td>\n",
       "      <td>0</td>\n",
       "      <td>3</td>\n",
       "      <td>0</td>\n",
       "    </tr>\n",
       "    <tr>\n",
       "      <th>3</th>\n",
       "      <td>172936</td>\n",
       "      <td>4</td>\n",
       "      <td>0</td>\n",
       "      <td>13</td>\n",
       "      <td>0</td>\n",
       "      <td>2</td>\n",
       "      <td>2</td>\n",
       "      <td>0</td>\n",
       "    </tr>\n",
       "    <tr>\n",
       "      <th>4</th>\n",
       "      <td>172936</td>\n",
       "      <td>5</td>\n",
       "      <td>0</td>\n",
       "      <td>4</td>\n",
       "      <td>0</td>\n",
       "      <td>4</td>\n",
       "      <td>4</td>\n",
       "      <td>0</td>\n",
       "    </tr>\n",
       "  </tbody>\n",
       "</table>\n",
       "</div>"
      ],
      "text/plain": [
       "   GeneID  Bin ID  H3K27me3 count  H3K36me3 count  H3K4me1 count  \\\n",
       "0  172936       1               0               6              1   \n",
       "1  172936       2               0              10              1   \n",
       "2  172936       3               0              12              1   \n",
       "3  172936       4               0              13              0   \n",
       "4  172936       5               0               4              0   \n",
       "\n",
       "   H3K4me3 count  H3K9me3 counts  Binary Label  \n",
       "0              2               0             0  \n",
       "1              0               2             0  \n",
       "2              0               3             0  \n",
       "3              2               2             0  \n",
       "4              4               4             0  "
      ]
     },
     "execution_count": 4,
     "metadata": {},
     "output_type": "execute_result"
    }
   ],
   "source": [
    "test_df.head()"
   ]
  },
  {
   "cell_type": "code",
   "execution_count": 5,
   "id": "47680338",
   "metadata": {},
   "outputs": [
    {
     "name": "stdout",
     "output_type": "stream",
     "text": [
      "Connection to SQL is successful\n"
     ]
    }
   ],
   "source": [
    "hostname = \"10.142.0.3\"\n",
    "databasename = \"monitoring2\"\n",
    "username = \"root\"\n",
    "password = \"test\"\n",
    "engine = create_engine(\"mysql+pymysql://{user}:{pw}@{host}/{db}\"\n",
    "                            .format(host=hostname, db=databasename, user=username, pw=password))\n",
    "try:\n",
    "    if engine.connect():\n",
    "        print(\"Connection to SQL is successful\")\n",
    "except Exception as e:\n",
    "    print(e)"
   ]
  },
  {
   "cell_type": "code",
   "execution_count": 6,
   "id": "0a2bd8bb",
   "metadata": {},
   "outputs": [],
   "source": [
    "token = os.getenv(\"DKUBE_USER_ACCESS_TOKEN\")\n",
    "predict_url = \"https://10.142.0.3:32222/dkube/inference/abhijeetc/feb271b6fd:predict\""
   ]
  },
  {
   "cell_type": "code",
   "execution_count": 7,
   "id": "ed5c2dd3",
   "metadata": {},
   "outputs": [
    {
     "name": "stdout",
     "output_type": "stream",
     "text": [
      "11\n"
     ]
    }
   ],
   "source": [
    "no_of_samples = random.randint(10,15)\n",
    "print(no_of_samples)"
   ]
  },
  {
   "cell_type": "code",
   "execution_count": 8,
   "id": "2b9aed29",
   "metadata": {},
   "outputs": [
    {
     "data": {
      "text/html": [
       "<div>\n",
       "<style scoped>\n",
       "    .dataframe tbody tr th:only-of-type {\n",
       "        vertical-align: middle;\n",
       "    }\n",
       "\n",
       "    .dataframe tbody tr th {\n",
       "        vertical-align: top;\n",
       "    }\n",
       "\n",
       "    .dataframe thead th {\n",
       "        text-align: right;\n",
       "    }\n",
       "</style>\n",
       "<table border=\"1\" class=\"dataframe\">\n",
       "  <thead>\n",
       "    <tr style=\"text-align: right;\">\n",
       "      <th></th>\n",
       "      <th>GeneID</th>\n",
       "      <th>Bin ID</th>\n",
       "      <th>H3K27me3 count</th>\n",
       "      <th>H3K36me3 count</th>\n",
       "      <th>H3K4me1 count</th>\n",
       "      <th>H3K4me3 count</th>\n",
       "      <th>H3K9me3 counts</th>\n",
       "      <th>Binary Label</th>\n",
       "    </tr>\n",
       "  </thead>\n",
       "  <tbody>\n",
       "    <tr>\n",
       "      <th>843</th>\n",
       "      <td>172969</td>\n",
       "      <td>44</td>\n",
       "      <td>5</td>\n",
       "      <td>5</td>\n",
       "      <td>2</td>\n",
       "      <td>2</td>\n",
       "      <td>9</td>\n",
       "      <td>0</td>\n",
       "    </tr>\n",
       "    <tr>\n",
       "      <th>222</th>\n",
       "      <td>172939</td>\n",
       "      <td>23</td>\n",
       "      <td>0</td>\n",
       "      <td>0</td>\n",
       "      <td>0</td>\n",
       "      <td>0</td>\n",
       "      <td>0</td>\n",
       "      <td>0</td>\n",
       "    </tr>\n",
       "    <tr>\n",
       "      <th>80</th>\n",
       "      <td>172936</td>\n",
       "      <td>81</td>\n",
       "      <td>1</td>\n",
       "      <td>10</td>\n",
       "      <td>0</td>\n",
       "      <td>4</td>\n",
       "      <td>4</td>\n",
       "      <td>0</td>\n",
       "    </tr>\n",
       "    <tr>\n",
       "      <th>335</th>\n",
       "      <td>172940</td>\n",
       "      <td>36</td>\n",
       "      <td>6</td>\n",
       "      <td>2</td>\n",
       "      <td>11</td>\n",
       "      <td>2</td>\n",
       "      <td>0</td>\n",
       "      <td>0</td>\n",
       "    </tr>\n",
       "    <tr>\n",
       "      <th>473</th>\n",
       "      <td>172943</td>\n",
       "      <td>74</td>\n",
       "      <td>0</td>\n",
       "      <td>0</td>\n",
       "      <td>0</td>\n",
       "      <td>0</td>\n",
       "      <td>0</td>\n",
       "      <td>1</td>\n",
       "    </tr>\n",
       "    <tr>\n",
       "      <th>197</th>\n",
       "      <td>172938</td>\n",
       "      <td>98</td>\n",
       "      <td>3</td>\n",
       "      <td>0</td>\n",
       "      <td>0</td>\n",
       "      <td>2</td>\n",
       "      <td>1</td>\n",
       "      <td>0</td>\n",
       "    </tr>\n",
       "    <tr>\n",
       "      <th>883</th>\n",
       "      <td>172969</td>\n",
       "      <td>84</td>\n",
       "      <td>27</td>\n",
       "      <td>1</td>\n",
       "      <td>2</td>\n",
       "      <td>14</td>\n",
       "      <td>10</td>\n",
       "      <td>0</td>\n",
       "    </tr>\n",
       "    <tr>\n",
       "      <th>126</th>\n",
       "      <td>172938</td>\n",
       "      <td>27</td>\n",
       "      <td>8</td>\n",
       "      <td>0</td>\n",
       "      <td>1</td>\n",
       "      <td>2</td>\n",
       "      <td>3</td>\n",
       "      <td>0</td>\n",
       "    </tr>\n",
       "    <tr>\n",
       "      <th>545</th>\n",
       "      <td>172954</td>\n",
       "      <td>46</td>\n",
       "      <td>7</td>\n",
       "      <td>0</td>\n",
       "      <td>8</td>\n",
       "      <td>28</td>\n",
       "      <td>1</td>\n",
       "      <td>1</td>\n",
       "    </tr>\n",
       "    <tr>\n",
       "      <th>696</th>\n",
       "      <td>172955</td>\n",
       "      <td>97</td>\n",
       "      <td>0</td>\n",
       "      <td>0</td>\n",
       "      <td>0</td>\n",
       "      <td>0</td>\n",
       "      <td>0</td>\n",
       "      <td>0</td>\n",
       "    </tr>\n",
       "    <tr>\n",
       "      <th>464</th>\n",
       "      <td>172943</td>\n",
       "      <td>65</td>\n",
       "      <td>2</td>\n",
       "      <td>0</td>\n",
       "      <td>0</td>\n",
       "      <td>2</td>\n",
       "      <td>1</td>\n",
       "      <td>1</td>\n",
       "    </tr>\n",
       "  </tbody>\n",
       "</table>\n",
       "</div>"
      ],
      "text/plain": [
       "     GeneID  Bin ID  H3K27me3 count  H3K36me3 count  H3K4me1 count  \\\n",
       "843  172969      44               5               5              2   \n",
       "222  172939      23               0               0              0   \n",
       "80   172936      81               1              10              0   \n",
       "335  172940      36               6               2             11   \n",
       "473  172943      74               0               0              0   \n",
       "197  172938      98               3               0              0   \n",
       "883  172969      84              27               1              2   \n",
       "126  172938      27               8               0              1   \n",
       "545  172954      46               7               0              8   \n",
       "696  172955      97               0               0              0   \n",
       "464  172943      65               2               0              0   \n",
       "\n",
       "     H3K4me3 count  H3K9me3 counts  Binary Label  \n",
       "843              2               9             0  \n",
       "222              0               0             0  \n",
       "80               4               4             0  \n",
       "335              2               0             0  \n",
       "473              0               0             1  \n",
       "197              2               1             0  \n",
       "883             14              10             0  \n",
       "126              2               3             0  \n",
       "545             28               1             1  \n",
       "696              0               0             0  \n",
       "464              2               1             1  "
      ]
     },
     "execution_count": 8,
     "metadata": {},
     "output_type": "execute_result"
    }
   ],
   "source": [
    "sample_df = test_df.sample(no_of_samples)\n",
    "sample_df"
   ]
  },
  {
   "cell_type": "code",
   "execution_count": 9,
   "id": "13ba4dba",
   "metadata": {},
   "outputs": [
    {
     "name": "stdout",
     "output_type": "stream",
     "text": [
      "[[172969     44      5      5      2      2      9]\n",
      " [172939     23      0      0      0      0      0]\n",
      " [172936     81      1     10      0      4      4]\n",
      " [172940     36      6      2     11      2      0]\n",
      " [172943     74      0      0      0      0      0]\n",
      " [172938     98      3      0      0      2      1]\n",
      " [172969     84     27      1      2     14     10]\n",
      " [172938     27      8      0      1      2      3]\n",
      " [172954     46      7      0      8     28      1]\n",
      " [172955     97      0      0      0      0      0]\n",
      " [172943     65      2      0      0      2      1]]\n"
     ]
    }
   ],
   "source": [
    "values = sample_df[input_features].values\n",
    "print(values)"
   ]
  },
  {
   "cell_type": "code",
   "execution_count": 10,
   "id": "2fc2c4c6",
   "metadata": {},
   "outputs": [
    {
     "name": "stderr",
     "output_type": "stream",
     "text": [
      "/usr/local/lib/python3.6/dist-packages/urllib3/connectionpool.py:1020: InsecureRequestWarning: Unverified HTTPS request is being made to host '10.142.0.3'. Adding certificate verification is strongly advised. See: https://urllib3.readthedocs.io/en/1.26.x/advanced-usage.html#ssl-warnings\n",
      "  InsecureRequestWarning,\n",
      "/usr/local/lib/python3.6/dist-packages/urllib3/connectionpool.py:1020: InsecureRequestWarning: Unverified HTTPS request is being made to host '10.142.0.3'. Adding certificate verification is strongly advised. See: https://urllib3.readthedocs.io/en/1.26.x/advanced-usage.html#ssl-warnings\n",
      "  InsecureRequestWarning,\n",
      "/usr/local/lib/python3.6/dist-packages/urllib3/connectionpool.py:1020: InsecureRequestWarning: Unverified HTTPS request is being made to host '10.142.0.3'. Adding certificate verification is strongly advised. See: https://urllib3.readthedocs.io/en/1.26.x/advanced-usage.html#ssl-warnings\n",
      "  InsecureRequestWarning,\n",
      "/usr/local/lib/python3.6/dist-packages/urllib3/connectionpool.py:1020: InsecureRequestWarning: Unverified HTTPS request is being made to host '10.142.0.3'. Adding certificate verification is strongly advised. See: https://urllib3.readthedocs.io/en/1.26.x/advanced-usage.html#ssl-warnings\n",
      "  InsecureRequestWarning,\n",
      "/usr/local/lib/python3.6/dist-packages/urllib3/connectionpool.py:1020: InsecureRequestWarning: Unverified HTTPS request is being made to host '10.142.0.3'. Adding certificate verification is strongly advised. See: https://urllib3.readthedocs.io/en/1.26.x/advanced-usage.html#ssl-warnings\n",
      "  InsecureRequestWarning,\n",
      "/usr/local/lib/python3.6/dist-packages/urllib3/connectionpool.py:1020: InsecureRequestWarning: Unverified HTTPS request is being made to host '10.142.0.3'. Adding certificate verification is strongly advised. See: https://urllib3.readthedocs.io/en/1.26.x/advanced-usage.html#ssl-warnings\n",
      "  InsecureRequestWarning,\n",
      "/usr/local/lib/python3.6/dist-packages/urllib3/connectionpool.py:1020: InsecureRequestWarning: Unverified HTTPS request is being made to host '10.142.0.3'. Adding certificate verification is strongly advised. See: https://urllib3.readthedocs.io/en/1.26.x/advanced-usage.html#ssl-warnings\n",
      "  InsecureRequestWarning,\n",
      "/usr/local/lib/python3.6/dist-packages/urllib3/connectionpool.py:1020: InsecureRequestWarning: Unverified HTTPS request is being made to host '10.142.0.3'. Adding certificate verification is strongly advised. See: https://urllib3.readthedocs.io/en/1.26.x/advanced-usage.html#ssl-warnings\n",
      "  InsecureRequestWarning,\n",
      "/usr/local/lib/python3.6/dist-packages/urllib3/connectionpool.py:1020: InsecureRequestWarning: Unverified HTTPS request is being made to host '10.142.0.3'. Adding certificate verification is strongly advised. See: https://urllib3.readthedocs.io/en/1.26.x/advanced-usage.html#ssl-warnings\n",
      "  InsecureRequestWarning,\n",
      "/usr/local/lib/python3.6/dist-packages/urllib3/connectionpool.py:1020: InsecureRequestWarning: Unverified HTTPS request is being made to host '10.142.0.3'. Adding certificate verification is strongly advised. See: https://urllib3.readthedocs.io/en/1.26.x/advanced-usage.html#ssl-warnings\n",
      "  InsecureRequestWarning,\n",
      "/usr/local/lib/python3.6/dist-packages/urllib3/connectionpool.py:1020: InsecureRequestWarning: Unverified HTTPS request is being made to host '10.142.0.3'. Adding certificate verification is strongly advised. See: https://urllib3.readthedocs.io/en/1.26.x/advanced-usage.html#ssl-warnings\n",
      "  InsecureRequestWarning,\n",
      "/usr/local/lib/python3.6/dist-packages/urllib3/connectionpool.py:1020: InsecureRequestWarning: Unverified HTTPS request is being made to host '10.142.0.3'. Adding certificate verification is strongly advised. See: https://urllib3.readthedocs.io/en/1.26.x/advanced-usage.html#ssl-warnings\n",
      "  InsecureRequestWarning,\n",
      "/usr/local/lib/python3.6/dist-packages/urllib3/connectionpool.py:1020: InsecureRequestWarning: Unverified HTTPS request is being made to host '10.142.0.3'. Adding certificate verification is strongly advised. See: https://urllib3.readthedocs.io/en/1.26.x/advanced-usage.html#ssl-warnings\n",
      "  InsecureRequestWarning,\n",
      "/usr/local/lib/python3.6/dist-packages/urllib3/connectionpool.py:1020: InsecureRequestWarning: Unverified HTTPS request is being made to host '10.142.0.3'. Adding certificate verification is strongly advised. See: https://urllib3.readthedocs.io/en/1.26.x/advanced-usage.html#ssl-warnings\n",
      "  InsecureRequestWarning,\n",
      "/usr/local/lib/python3.6/dist-packages/urllib3/connectionpool.py:1020: InsecureRequestWarning: Unverified HTTPS request is being made to host '10.142.0.3'. Adding certificate verification is strongly advised. See: https://urllib3.readthedocs.io/en/1.26.x/advanced-usage.html#ssl-warnings\n",
      "  InsecureRequestWarning,\n",
      "/usr/local/lib/python3.6/dist-packages/urllib3/connectionpool.py:1020: InsecureRequestWarning: Unverified HTTPS request is being made to host '10.142.0.3'. Adding certificate verification is strongly advised. See: https://urllib3.readthedocs.io/en/1.26.x/advanced-usage.html#ssl-warnings\n",
      "  InsecureRequestWarning,\n"
     ]
    },
    {
     "ename": "KeyboardInterrupt",
     "evalue": "",
     "output_type": "error",
     "traceback": [
      "\u001b[0;31m---------------------------------------------------------------------------\u001b[0m",
      "\u001b[0;31mKeyboardInterrupt\u001b[0m                         Traceback (most recent call last)",
      "\u001b[0;32m<ipython-input-10-3466ad5d2be4>\u001b[0m in \u001b[0;36m<module>\u001b[0;34m\u001b[0m\n\u001b[1;32m     20\u001b[0m         \u001b[0mlabelled_df\u001b[0m\u001b[0;34m.\u001b[0m\u001b[0mto_sql\u001b[0m\u001b[0;34m(\u001b[0m\u001b[0;34m\"attentive\"\u001b[0m\u001b[0;34m,\u001b[0m \u001b[0mengine\u001b[0m\u001b[0;34m,\u001b[0m \u001b[0mif_exists\u001b[0m\u001b[0;34m=\u001b[0m\u001b[0;34m\"append\"\u001b[0m\u001b[0;34m,\u001b[0m \u001b[0mindex\u001b[0m\u001b[0;34m=\u001b[0m\u001b[0;32mFalse\u001b[0m\u001b[0;34m)\u001b[0m\u001b[0;34m\u001b[0m\u001b[0;34m\u001b[0m\u001b[0m\n\u001b[1;32m     21\u001b[0m         \u001b[0mprint\u001b[0m\u001b[0;34m(\u001b[0m\u001b[0;34m\"labelled data pushed\"\u001b[0m\u001b[0;34m)\u001b[0m\u001b[0;34m\u001b[0m\u001b[0;34m\u001b[0m\u001b[0m\n\u001b[0;32m---> 22\u001b[0;31m     \u001b[0mtime\u001b[0m\u001b[0;34m.\u001b[0m\u001b[0msleep\u001b[0m\u001b[0;34m(\u001b[0m\u001b[0;36m60\u001b[0m\u001b[0;34m)\u001b[0m\u001b[0;34m\u001b[0m\u001b[0;34m\u001b[0m\u001b[0m\n\u001b[0m",
      "\u001b[0;31mKeyboardInterrupt\u001b[0m: "
     ]
    }
   ],
   "source": [
    "while True:\n",
    "    no_of_samples = random.randint(10,15)\n",
    "    sample_df = test_df.sample(no_of_samples)\n",
    "    values = sample_df[input_features].values\n",
    "    payload = {\"instances\": values.tolist(), \"token\": token}\n",
    "    r = requests.post(predict_url, json=payload, \n",
    "                      headers = {'authorization': \"Bearer \" + token}, \n",
    "                      verify = False)\n",
    "    if r.status_code == 200:\n",
    "        start = datetime.datetime.utcnow()\n",
    "        end = start + datetime.timedelta(seconds=10)\n",
    "        predictions = r.json()[\"predictions\"]\n",
    "        labels = sample_df[\"Binary Label %\"]\n",
    "        timestamps = pd.date_range(start, end, len(predictions))\n",
    "        labelled_df = pd.DataFrame({\n",
    "            \"DateTime\": timestamps,\n",
    "            \"Binary Label %\": predictions,\n",
    "            \"Binary Label\": labels\n",
    "        })\n",
    "        labelled_df.to_sql(\"attentive\", engine, if_exists=\"append\", index=False)\n",
    "        print(\"labelled data pushed\")\n",
    "    time.sleep(60)"
   ]
  },
  {
   "cell_type": "code",
   "execution_count": 6,
   "id": "6948e3d5",
   "metadata": {},
   "outputs": [
    {
     "name": "stderr",
     "output_type": "stream",
     "text": [
      "Cloning into '/home/abhijeetc/.kipoi/models'...\n",
      "Checking out files: 100% (443/443), done.\n"
     ]
    },
    {
     "name": "stdout",
     "output_type": "stream",
     "text": [
      "Downloading https://zenodo.org/api/files/2bf982b6-143f-49f6-b9ad-1b1e60f67292/E005_attchrome_avgAUC_model.pt?download=1 to /home/abhijeetc/.kipoi/models/AttentiveChrome/downloaded/model_files/E005/weights/19f61dca439ffcf7bbe44ca15238ff4d\n"
     ]
    },
    {
     "name": "stderr",
     "output_type": "stream",
     "text": [
      "238kB [00:02, 107kB/s]                             \n",
      "/usr/local/lib/python3.8/site-packages/torch/nn/modules/rnn.py:57: UserWarning: dropout option adds dropout after all but last recurrent layer, so non-zero dropout expects num_layers greater than 1, but got dropout=0.5 and num_layers=1\n",
      "  warnings.warn(\"dropout option adds dropout after all but last \"\n"
     ]
    }
   ],
   "source": [
    "import  kipoi\n",
    "model = kipoi.get_model(\"AttentiveChrome/E005\")"
   ]
  },
  {
   "cell_type": "code",
   "execution_count": null,
   "id": "33330dfc",
   "metadata": {},
   "outputs": [],
   "source": []
  },
  {
   "cell_type": "code",
   "execution_count": null,
   "id": "70aab47b",
   "metadata": {},
   "outputs": [],
   "source": []
  },
  {
   "cell_type": "code",
   "execution_count": 7,
   "id": "bcb4ba26",
   "metadata": {},
   "outputs": [
    {
     "name": "stdout",
     "output_type": "stream",
     "text": [
      "Downloading https://zenodo.org/record/2640883/files/test.csv?download=1 to /home/abhijeetc/.kipoi/models/AttentiveChrome/downloaded/example_files/input_file\n"
     ]
    },
    {
     "name": "stderr",
     "output_type": "stream",
     "text": [
      "24.6kB [00:01, 14.6kB/s]                            \n"
     ]
    },
    {
     "name": "stdout",
     "output_type": "stream",
     "text": [
      "dl_dictionary: {'input_file': '/home/abhijeetc/.kipoi/models/AttentiveChrome/downloaded/example_files/input_file'}\n"
     ]
    },
    {
     "name": "stderr",
     "output_type": "stream",
     "text": [
      "0it [00:00, ?it/s]"
     ]
    },
    {
     "name": "stdout",
     "output_type": "stream",
     "text": [
      "Number of genes: 10\n",
      "Number of entries: 1000\n",
      "Number of HMs: 7\n"
     ]
    },
    {
     "name": "stderr",
     "output_type": "stream",
     "text": [
      "1it [00:00,  3.98it/s]\n"
     ]
    }
   ],
   "source": [
    "dl_dictionary = model.default_dataloader.example_kwargs #This is an example dataloader.\n",
    "print(\"dl_dictionary:\", dl_dictionary)\n",
    "\n",
    "prediction = model.pipeline.predict(dl_dictionary)"
   ]
  },
  {
   "cell_type": "code",
   "execution_count": 8,
   "id": "a65e07f9",
   "metadata": {},
   "outputs": [
    {
     "data": {
      "text/plain": [
       "array([[0.6430358 ],\n",
       "       [0.04643877],\n",
       "       [0.67054904],\n",
       "       [0.2707719 ],\n",
       "       [0.6830173 ],\n",
       "       [0.55665994],\n",
       "       [0.18436134],\n",
       "       [0.13774122],\n",
       "       [0.06227126],\n",
       "       [0.60603684]], dtype=float32)"
      ]
     },
     "execution_count": 8,
     "metadata": {},
     "output_type": "execute_result"
    }
   ],
   "source": [
    "prediction"
   ]
  },
  {
   "cell_type": "code",
   "execution_count": null,
   "id": "850c9506",
   "metadata": {},
   "outputs": [],
   "source": [
    "while True:\n",
    "   \n",
    "    \n",
    "#     payload = {\"instances\": values.tolist(), \"token\": token}\n",
    "#     r = requests.post(predict_url, json=payload, \n",
    "#                       headers = {'authorization': \"Bearer \" + token}, \n",
    "#                       verify = False)\n",
    "    sc=200\n",
    "    dl_dictionary = model.default_dataloader.example_kwargs #This is an example dataloader.\n",
    "    print(\"dl_dictionary:\", dl_dictionary)\n",
    "    model.pipeline.predict({'input_file': '/test.csv','bin_size':100})\n",
    "    prediction = model.pipeline.predict(dl_dictionary)\n",
    "    if sc == 200:\n",
    "        start = datetime.datetime.utcnow()\n",
    "        end = start + datetime.timedelta(seconds=10)\n",
    "#         predictions = r.json()[\"predictions\"]\n",
    "        labels = sample_df[\"No-show %\"]\n",
    "        timestamps = pd.date_range(start, end, len(predictions))\n",
    "        labelled_df = pd.DataFrame({\n",
    "            \"AppointmentDateTime\": timestamps,\n",
    "            \"No-show %\": predictions,\n",
    "            \"No-show-label\": labels\n",
    "        })\n",
    "        labelled_df.to_sql(\"no_show_label\", engine, if_exists=\"append\", index=False)\n",
    "        print(\"labelled data pushed\")\n",
    "    time.sleep(60)"
   ]
  }
 ],
 "metadata": {
  "kernelspec": {
   "display_name": "Python 3 (ipykernel)",
   "language": "python",
   "name": "python3"
  },
  "language_info": {
   "codemirror_mode": {
    "name": "ipython",
    "version": 3
   },
   "file_extension": ".py",
   "mimetype": "text/x-python",
   "name": "python",
   "nbconvert_exporter": "python",
   "pygments_lexer": "ipython3",
   "version": "3.8.5"
  }
 },
 "nbformat": 4,
 "nbformat_minor": 5
}
